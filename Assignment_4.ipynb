{
 "cells": [
  {
   "cell_type": "markdown",
   "id": "69d46bcb",
   "metadata": {},
   "source": [
    "1. What exactly is []?\n",
    "\n",
    "it's an empty list"
   ]
  },
  {
   "cell_type": "code",
   "execution_count": 1,
   "id": "0b672124",
   "metadata": {},
   "outputs": [
    {
     "name": "stdout",
     "output_type": "stream",
     "text": [
      "[2, 4, 'hello', 8, 10]\n"
     ]
    }
   ],
   "source": [
    "#2. In a list of values stored in a variable called spam, how would you assign the value 'hello' as the third value? (Assume [2, 4, 6, 8, 10] are in spam.)\n",
    "spam = [2,4,6,8,10]\n",
    "spam[2]='hello'\n",
    "print (spam)"
   ]
  },
  {
   "cell_type": "markdown",
   "id": "30006565",
   "metadata": {},
   "source": [
    "Let's pretend the spam includes the list ['a', 'b', 'c', 'd'] for the next three queries."
   ]
  },
  {
   "cell_type": "code",
   "execution_count": 2,
   "id": "3f007b8b",
   "metadata": {},
   "outputs": [
    {
     "data": {
      "text/plain": [
       "'d'"
      ]
     },
     "execution_count": 2,
     "metadata": {},
     "output_type": "execute_result"
    }
   ],
   "source": [
    "#3. What is the value of spam[int(int('3' * 2) / 11)]?\n",
    "spam = ['a','b','c','d']\n",
    "spam [int(int('3'*2)/11)]"
   ]
  },
  {
   "cell_type": "code",
   "execution_count": 3,
   "id": "2366b252",
   "metadata": {},
   "outputs": [
    {
     "data": {
      "text/plain": [
       "'d'"
      ]
     },
     "execution_count": 3,
     "metadata": {},
     "output_type": "execute_result"
    }
   ],
   "source": [
    "#4. What is the value of spam[-1]?\n",
    "spam = ['a','b','c','d']\n",
    "spam[-1]"
   ]
  },
  {
   "cell_type": "code",
   "execution_count": 4,
   "id": "138e4429",
   "metadata": {},
   "outputs": [
    {
     "data": {
      "text/plain": [
       "['a', 'b']"
      ]
     },
     "execution_count": 4,
     "metadata": {},
     "output_type": "execute_result"
    }
   ],
   "source": [
    "#5. What is the value of spam[:2]? \n",
    "spam = ['a','b','c','d']\n",
    "spam[:2]"
   ]
  },
  {
   "cell_type": "markdown",
   "id": "ac637a28",
   "metadata": {},
   "source": [
    "Let's pretend bacon has the list [3.14, 'cat,' 11, 'cat,' True] for the next three questions."
   ]
  },
  {
   "cell_type": "code",
   "execution_count": 5,
   "id": "844e4451",
   "metadata": {},
   "outputs": [
    {
     "data": {
      "text/plain": [
       "1"
      ]
     },
     "execution_count": 5,
     "metadata": {},
     "output_type": "execute_result"
    }
   ],
   "source": [
    "# 6. What is the value of bacon.index('cat')?\n",
    "bacon =  [3.14, 'cat', 11, 'cat', True]\n",
    "bacon.index('cat') "
   ]
  },
  {
   "cell_type": "code",
   "execution_count": 6,
   "id": "91b6120a",
   "metadata": {},
   "outputs": [
    {
     "data": {
      "text/plain": [
       "[3.14, 'cat', 11, 'cat', True, 99]"
      ]
     },
     "execution_count": 6,
     "metadata": {},
     "output_type": "execute_result"
    }
   ],
   "source": [
    "#7. How does bacon.append(99) change the look of the list value in bacon?\n",
    "bacon =  [3.14, 'cat', 11, 'cat', True]\n",
    "bacon.append(99)\n",
    "bacon\n"
   ]
  },
  {
   "cell_type": "code",
   "execution_count": 7,
   "id": "23cfd6b0",
   "metadata": {},
   "outputs": [
    {
     "data": {
      "text/plain": [
       "[3.14, 11, 'cat', True]"
      ]
     },
     "execution_count": 7,
     "metadata": {},
     "output_type": "execute_result"
    }
   ],
   "source": [
    "#8. How does bacon.remove('cat') change the look of the list in bacon?\n",
    "bacon =  [3.14, 'cat', 11, 'cat', True]\n",
    "bacon.remove('cat')\n",
    "bacon"
   ]
  },
  {
   "cell_type": "markdown",
   "id": "877a9046",
   "metadata": {},
   "source": [
    "9. What are the list concatenation and list replication operators?\n",
    "\n",
    "( * ) is list replication operator ( + ) is list concatination operator"
   ]
  },
  {
   "cell_type": "code",
   "execution_count": 8,
   "id": "971fcc22",
   "metadata": {},
   "outputs": [
    {
     "name": "stdout",
     "output_type": "stream",
     "text": [
      "[7, 4, 7, 4, 7, 4]\n",
      "[1, 2, 3, 4, 5]\n"
     ]
    }
   ],
   "source": [
    "#eg\n",
    "l1=[7,4]\n",
    "print(l1*3)\n",
    "\n",
    "l=[1,2,3]\n",
    "l2= [4,5]\n",
    "print(l+l2)\n"
   ]
  },
  {
   "cell_type": "markdown",
   "id": "4bef0af0",
   "metadata": {},
   "source": [
    "10. What is difference between the list methods append() and insert()?\n",
    "\n",
    "append() Appends object to the end of the list\n",
    "\n",
    "insert() Insert object before index"
   ]
  },
  {
   "cell_type": "code",
   "execution_count": 9,
   "id": "97c9ff40",
   "metadata": {},
   "outputs": [
    {
     "name": "stdout",
     "output_type": "stream",
     "text": [
      "[1, 2, 3, 'cat']\n",
      "[3, 76, 4, 5]\n"
     ]
    }
   ],
   "source": [
    "l1= [1,2,3]\n",
    "l1.append('cat')\n",
    "print(l1)\n",
    "l2= [3,4,5]\n",
    "l2.insert(1,76)\n",
    "print(l2)"
   ]
  },
  {
   "cell_type": "markdown",
   "id": "2e201181",
   "metadata": {},
   "source": [
    "11. What are the two methods for removing items from a list?"
   ]
  },
  {
   "cell_type": "code",
   "execution_count": 10,
   "id": "124bf991",
   "metadata": {},
   "outputs": [
    {
     "name": "stdout",
     "output_type": "stream",
     "text": [
      "[1, 3, 4]\n",
      "[1, 3]\n"
     ]
    }
   ],
   "source": [
    "l1 = [1,2,3,4]\n",
    "l1.remove(2)\n",
    "print(l1)\n",
    "l1.pop()\n",
    "print(l1)"
   ]
  },
  {
   "cell_type": "markdown",
   "id": "d2f993ea",
   "metadata": {},
   "source": [
    "12. Describe how list values and string values are identical.\n",
    "\n",
    "1 both use as  indexes and slices\n",
    "\n",
    "2 both work as concatenate\n",
    "\n",
    "3 both operate as len()"
   ]
  },
  {
   "cell_type": "markdown",
   "id": "b92d0cb4",
   "metadata": {},
   "source": [
    "13. What's the difference between tuples and lists?\n",
    "\n",
    "Lists : are mutable - they can have values added, removed, or changed. lists use the square brackets, [ and ]\n",
    "\n",
    "Tuples : are immutable; they cannot be changed at all. Tuples are written using parentheses"
   ]
  },
  {
   "cell_type": "code",
   "execution_count": 11,
   "id": "16a58c45",
   "metadata": {},
   "outputs": [
    {
     "data": {
      "text/plain": [
       "tuple"
      ]
     },
     "execution_count": 11,
     "metadata": {},
     "output_type": "execute_result"
    }
   ],
   "source": [
    "#14. How do you type a tuple value that only contains the integer 42?\n",
    "t=(42,)\n",
    "type(t)"
   ]
  },
  {
   "cell_type": "code",
   "execution_count": 12,
   "id": "c6dd1aee",
   "metadata": {},
   "outputs": [
    {
     "name": "stdout",
     "output_type": "stream",
     "text": [
      "(1, 2, 3)\n",
      "[1, 2, 3]\n"
     ]
    }
   ],
   "source": [
    "# 15. How do you get a list value's tuple form? How do you get a tuple value's list form?\n",
    "l =[1,2,3]\n",
    "t1= tuple(l)\n",
    "print(t1)\n",
    "l1= list(t1)\n",
    "print (l1)\n"
   ]
  },
  {
   "cell_type": "markdown",
   "id": "c57a486b",
   "metadata": {},
   "source": [
    "16. Variables that \"contain\" list values are not necessarily lists themselves. Instead, what do they contain?\n",
    "\n",
    "Ans. They contain references to list values"
   ]
  },
  {
   "cell_type": "markdown",
   "id": "bcb61696",
   "metadata": {},
   "source": [
    "17. How do you distinguish between copy.copy() and copy.deepcopy()?\n",
    "\n",
    "Ans . The copy.copy() function will do a shallow copy of a list,\n",
    "\n",
    "The copy.deepcopy() function will do a deep copy of a list. only copy.deepcopy() will duplicate any lists inside the list"
   ]
  },
  {
   "cell_type": "code",
   "execution_count": null,
   "id": "7e6f2e4f",
   "metadata": {},
   "outputs": [],
   "source": []
  }
 ],
 "metadata": {
  "kernelspec": {
   "display_name": "Python 3 (ipykernel)",
   "language": "python",
   "name": "python3"
  },
  "language_info": {
   "codemirror_mode": {
    "name": "ipython",
    "version": 3
   },
   "file_extension": ".py",
   "mimetype": "text/x-python",
   "name": "python",
   "nbconvert_exporter": "python",
   "pygments_lexer": "ipython3",
   "version": "3.9.13"
  }
 },
 "nbformat": 4,
 "nbformat_minor": 5
}
