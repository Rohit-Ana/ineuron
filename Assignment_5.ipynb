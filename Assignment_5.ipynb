{
 "cells": [
  {
   "cell_type": "markdown",
   "id": "1a445ac1",
   "metadata": {},
   "source": [
    "1.What does an empty dictionary's code look like?\n",
    "\n",
    "Ans: An empty dictionary's code is often represented by two empty curly brackets\n",
    "    \n",
    "d = {} or d = dict()"
   ]
  },
  {
   "cell_type": "markdown",
   "id": "34b184cf",
   "metadata": {},
   "source": [
    "2.what is the value of dictionary value with key 'foo' and the value 42 ?\n",
    "\n",
    "Ans:dict= {'foo':42}"
   ]
  },
  {
   "cell_type": "markdown",
   "id": "ccf10a80",
   "metadata": {},
   "source": [
    "3.What is the most significant distinction between a dictionary and a list?\n",
    "\n",
    "Ans: Dictionary is represented by { } where as list is represented by [ ]\n",
    "    \n",
    "The Items stored in a dictionary are Unordered , while the items in a list are ordered."
   ]
  },
  {
   "cell_type": "markdown",
   "id": "0a9b0295",
   "metadata": {},
   "source": [
    "4.What happens if you try to access spam ['foo'] if spam is {'bar':100} ?\n",
    "\n",
    "Ans: we will get a keyError KeyError: 'foo'"
   ]
  },
  {
   "cell_type": "code",
   "execution_count": 1,
   "id": "be520842",
   "metadata": {},
   "outputs": [
    {
     "ename": "KeyError",
     "evalue": "'foo'",
     "output_type": "error",
     "traceback": [
      "\u001b[1;31m---------------------------------------------------------------------------\u001b[0m",
      "\u001b[1;31mKeyError\u001b[0m                                  Traceback (most recent call last)",
      "\u001b[1;32m~\\AppData\\Local\\Temp\\ipykernel_8932\\1072384509.py\u001b[0m in \u001b[0;36m<module>\u001b[1;34m\u001b[0m\n\u001b[0;32m      1\u001b[0m \u001b[1;31m#eg\u001b[0m\u001b[1;33m\u001b[0m\u001b[1;33m\u001b[0m\u001b[0m\n\u001b[0;32m      2\u001b[0m \u001b[0mspam\u001b[0m \u001b[1;33m=\u001b[0m \u001b[1;33m{\u001b[0m\u001b[1;34m'bar'\u001b[0m\u001b[1;33m:\u001b[0m\u001b[1;36m100\u001b[0m\u001b[1;33m}\u001b[0m\u001b[1;33m\u001b[0m\u001b[1;33m\u001b[0m\u001b[0m\n\u001b[1;32m----> 3\u001b[1;33m \u001b[0mspam\u001b[0m\u001b[1;33m[\u001b[0m\u001b[1;34m'foo'\u001b[0m\u001b[1;33m]\u001b[0m\u001b[1;33m\u001b[0m\u001b[1;33m\u001b[0m\u001b[0m\n\u001b[0m",
      "\u001b[1;31mKeyError\u001b[0m: 'foo'"
     ]
    }
   ],
   "source": [
    "#eg \n",
    "spam = {'bar':100}\n",
    "spam['foo']"
   ]
  },
  {
   "cell_type": "markdown",
   "id": "6c9b3c0c",
   "metadata": {},
   "source": [
    "5.if a dictionary is stored in spam,what is the difference between the expressions 'cat' in spam and 'cat' in spam.keys() ?\n",
    "\n",
    "Ans:"
   ]
  },
  {
   "cell_type": "code",
   "execution_count": 2,
   "id": "0a1ba24b",
   "metadata": {},
   "outputs": [
    {
     "data": {
      "text/plain": [
       "True"
      ]
     },
     "execution_count": 2,
     "metadata": {},
     "output_type": "execute_result"
    }
   ],
   "source": [
    "spam ={'cat':100}\n",
    "'cat' in spam"
   ]
  },
  {
   "cell_type": "code",
   "execution_count": 3,
   "id": "e517ba37",
   "metadata": {},
   "outputs": [
    {
     "data": {
      "text/plain": [
       "True"
      ]
     },
     "execution_count": 3,
     "metadata": {},
     "output_type": "execute_result"
    }
   ],
   "source": [
    "\n",
    "'cat' in spam.keys()\n",
    "#There is no differnce, both check if 'cat' is key of the dictionary and if its a key, returns True."
   ]
  },
  {
   "cell_type": "markdown",
   "id": "9c66e6a9",
   "metadata": {},
   "source": [
    "6.if a dictionary is stored in spam,what is the difference between the expressions 'cat' in spam and 'cat' in spam.values() ?\n",
    "\n",
    "Ans:'cat' in spam checks whether there is a 'cat' key in the dictionary, while 'cat' in spam.values() checks whether there is a value 'cat' for one of the keys in spam."
   ]
  },
  {
   "cell_type": "code",
   "execution_count": 4,
   "id": "96782f96",
   "metadata": {},
   "outputs": [
    {
     "data": {
      "text/plain": [
       "True"
      ]
     },
     "execution_count": 4,
     "metadata": {},
     "output_type": "execute_result"
    }
   ],
   "source": [
    "spam ={'cat':100}\n",
    "'cat' in spam"
   ]
  },
  {
   "cell_type": "code",
   "execution_count": 5,
   "id": "98b374cc",
   "metadata": {},
   "outputs": [
    {
     "data": {
      "text/plain": [
       "False"
      ]
     },
     "execution_count": 5,
     "metadata": {},
     "output_type": "execute_result"
    }
   ],
   "source": [
    "spam ={'cat':100}\n",
    "'cat' in spam.values()"
   ]
  },
  {
   "cell_type": "markdown",
   "id": "378c44fd",
   "metadata": {},
   "source": [
    "7.what is a shortcut for the following code ?\n",
    "\n",
    "if 'color' not in spam: spam['color'] ='black'\n",
    "\n",
    "Ans: "
   ]
  },
  {
   "cell_type": "code",
   "execution_count": 6,
   "id": "7d9995c8",
   "metadata": {},
   "outputs": [
    {
     "data": {
      "text/plain": [
       "{'cat': 100, 'color': 'black'}"
      ]
     },
     "execution_count": 6,
     "metadata": {},
     "output_type": "execute_result"
    }
   ],
   "source": [
    "spam ={'cat':100}\n",
    "spam['color']='black'\n",
    "spam"
   ]
  },
  {
   "cell_type": "markdown",
   "id": "feff0513",
   "metadata": {},
   "source": [
    "8. How do you \"pretty print\" dictionary values using which module and function?\n",
    "\n",
    "Ans: we can pretty print a dictionary using three functions\n",
    "\n",
    "1. by using pprint() function of pprint module\n",
    "\n",
    "2. by using dumps() method of json module\n",
    "\n",
    "3. by using dumps() method of yaml module\n"
   ]
  },
  {
   "cell_type": "code",
   "execution_count": 7,
   "id": "bc573c54",
   "metadata": {},
   "outputs": [
    {
     "name": "stdout",
     "output_type": "stream",
     "text": [
      "[{'Serial_No': '123', 'Gender': 'M', 'Class_Attended': 'English', 'Class_section': '7-D'}, {'Serial_No': '546', 'Gender': 'U', 'Class_Attended': 'Mathematics', 'Class_section': '5-D'}, {'Serial_No': '456', 'Gender': 'F', 'Class_Attended': 'English', 'Class_section': '7-H'}, {'Serial_No': '876', 'Gender': 'F', 'Class_Attended': 'English', 'Class_section': '10-A'}, {'Serial_No': '343', 'Gender': 'M', 'Class_Attended': 'Hindi', 'Class_section': '3-G'}]\n",
      "[{'Class_Attended': 'English',\n",
      "  'Class_section': '7-D',\n",
      "  'Gender': 'M',\n",
      "  'Serial_No': '123'},\n",
      " {'Class_Attended': 'Mathematics',\n",
      "  'Class_section': '5-D',\n",
      "  'Gender': 'U',\n",
      "  'Serial_No': '546'},\n",
      " {'Class_Attended': 'English',\n",
      "  'Class_section': '7-H',\n",
      "  'Gender': 'F',\n",
      "  'Serial_No': '456'},\n",
      " {'Class_Attended': 'English',\n",
      "  'Class_section': '10-A',\n",
      "  'Gender': 'F',\n",
      "  'Serial_No': '876'},\n",
      " {'Class_Attended': 'Hindi',\n",
      "  'Class_section': '3-G',\n",
      "  'Gender': 'M',\n",
      "  'Serial_No': '343'}]\n"
     ]
    }
   ],
   "source": [
    "import pprint\n",
    "dict_array_1 = [\n",
    "  {'Serial_No': '123', 'Gender': 'M', 'Class_Attended': 'English', 'Class_section': '7-D' },\n",
    "  {'Serial_No': '546', 'Gender': 'U', 'Class_Attended': 'Mathematics', 'Class_section': '5-D' },\n",
    "  {'Serial_No': '456', 'Gender': 'F', 'Class_Attended': 'English', 'Class_section': '7-H' },\n",
    "  {'Serial_No': '876', 'Gender': 'F', 'Class_Attended': 'English', 'Class_section': '10-A'},\n",
    "  {'Serial_No': '343', 'Gender': 'M', 'Class_Attended': 'Hindi', 'Class_section': '3-G'}]\n",
    "print (dict_array_1)\n",
    "pprint.pprint(dict_array_1)"
   ]
  },
  {
   "cell_type": "code",
   "execution_count": 8,
   "id": "798dc12d",
   "metadata": {},
   "outputs": [
    {
     "name": "stdout",
     "output_type": "stream",
     "text": [
      "[{'Serial_No': '123', 'Gender': 'M', 'Class_Attended': 'English', 'Class_section': '7-D'}, {'Serial_No': '546', 'Gender': 'U', 'Class_Attended': 'Mathematics', 'Class_section': '5-D'}, {'Serial_No': '456', 'Gender': 'F', 'Class_Attended': 'English', 'Class_section': '7-H'}, {'Serial_No': '876', 'Gender': 'F', 'Class_Attended': 'English', 'Class_section': '10-A'}, {'Serial_No': '343', 'Gender': 'M', 'Class_Attended': 'Hindi', 'Class_section': '3-G'}]\n"
     ]
    },
    {
     "data": {
      "text/plain": [
       "'[\\n  {\\n    \"Class_Attended\": \"English\",\\n    \"Class_section\": \"7-D\",\\n    \"Gender\": \"M\",\\n    \"Serial_No\": \"123\"\\n  },\\n  {\\n    \"Class_Attended\": \"Mathematics\",\\n    \"Class_section\": \"5-D\",\\n    \"Gender\": \"U\",\\n    \"Serial_No\": \"546\"\\n  },\\n  {\\n    \"Class_Attended\": \"English\",\\n    \"Class_section\": \"7-H\",\\n    \"Gender\": \"F\",\\n    \"Serial_No\": \"456\"\\n  },\\n  {\\n    \"Class_Attended\": \"English\",\\n    \"Class_section\": \"10-A\",\\n    \"Gender\": \"F\",\\n    \"Serial_No\": \"876\"\\n  },\\n  {\\n    \"Class_Attended\": \"Hindi\",\\n    \"Class_section\": \"3-G\",\\n    \"Gender\": \"M\",\\n    \"Serial_No\": \"343\"\\n  }\\n]'"
      ]
     },
     "execution_count": 8,
     "metadata": {},
     "output_type": "execute_result"
    }
   ],
   "source": [
    "import json\n",
    "dict_array_1 = [\n",
    "  {'Serial_No': '123', 'Gender': 'M', 'Class_Attended': 'English', 'Class_section': '7-D' },\n",
    "  {'Serial_No': '546', 'Gender': 'U', 'Class_Attended': 'Mathematics', 'Class_section': '5-D' },\n",
    "  {'Serial_No': '456', 'Gender': 'F', 'Class_Attended': 'English', 'Class_section': '7-H' },\n",
    "  {'Serial_No': '876', 'Gender': 'F', 'Class_Attended': 'English', 'Class_section': '10-A'},\n",
    "  {'Serial_No': '343', 'Gender': 'M', 'Class_Attended': 'Hindi', 'Class_section': '3-G'}]\n",
    "print(dict_array_1)\n",
    "json.dumps(dict_array_1 , sort_keys=True , indent=2)"
   ]
  },
  {
   "cell_type": "code",
   "execution_count": 9,
   "id": "ea3fa29c",
   "metadata": {},
   "outputs": [
    {
     "name": "stdout",
     "output_type": "stream",
     "text": [
      "[{'Serial_No': '123', 'Gender': 'M', 'Class_Attended': 'English', 'Class_section': '7-D'}, {'Serial_No': '546', 'Gender': 'U', 'Class_Attended': 'Mathematics', 'Class_section': '5-D'}, {'Serial_No': '456', 'Gender': 'F', 'Class_Attended': 'English', 'Class_section': '7-H'}, {'Serial_No': '876', 'Gender': 'F', 'Class_Attended': 'English', 'Class_section': '10-A'}, {'Serial_No': '343', 'Gender': 'M', 'Class_Attended': 'Hindi', 'Class_section': '3-G'}]\n"
     ]
    },
    {
     "data": {
      "text/plain": [
       "\"- Serial_No: '123'\\n  Gender: M\\n  Class_Attended: English\\n  Class_section: 7-D\\n- Serial_No: '546'\\n  Gender: U\\n  Class_Attended: Mathematics\\n  Class_section: 5-D\\n- Serial_No: '456'\\n  Gender: F\\n  Class_Attended: English\\n  Class_section: 7-H\\n- Serial_No: '876'\\n  Gender: F\\n  Class_Attended: English\\n  Class_section: 10-A\\n- Serial_No: '343'\\n  Gender: M\\n  Class_Attended: Hindi\\n  Class_section: 3-G\\n\""
      ]
     },
     "execution_count": 9,
     "metadata": {},
     "output_type": "execute_result"
    }
   ],
   "source": [
    "import yaml\n",
    "dict_array_1 = [\n",
    "  {'Serial_No': '123', 'Gender': 'M', 'Class_Attended': 'English', 'Class_section': '7-D' },\n",
    "  {'Serial_No': '546', 'Gender': 'U', 'Class_Attended': 'Mathematics', 'Class_section': '5-D' },\n",
    "  {'Serial_No': '456', 'Gender': 'F', 'Class_Attended': 'English', 'Class_section': '7-H' },\n",
    "  {'Serial_No': '876', 'Gender': 'F', 'Class_Attended': 'English', 'Class_section': '10-A'},\n",
    "  {'Serial_No': '343', 'Gender': 'M', 'Class_Attended': 'Hindi', 'Class_section': '3-G'}]\n",
    "print(dict_array_1,end='\\n')\n",
    "yaml.dump(dict_array_1, sort_keys= False,default_flow_style= False)"
   ]
  },
  {
   "cell_type": "code",
   "execution_count": null,
   "id": "95c2aedb",
   "metadata": {},
   "outputs": [],
   "source": []
  }
 ],
 "metadata": {
  "kernelspec": {
   "display_name": "Python 3 (ipykernel)",
   "language": "python",
   "name": "python3"
  },
  "language_info": {
   "codemirror_mode": {
    "name": "ipython",
    "version": 3
   },
   "file_extension": ".py",
   "mimetype": "text/x-python",
   "name": "python",
   "nbconvert_exporter": "python",
   "pygments_lexer": "ipython3",
   "version": "3.9.13"
  }
 },
 "nbformat": 4,
 "nbformat_minor": 5
}
