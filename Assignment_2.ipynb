{
 "cells": [
  {
   "cell_type": "code",
   "execution_count": 2,
   "id": "1917d8cb",
   "metadata": {},
   "outputs": [
    {
     "name": "stdout",
     "output_type": "stream",
     "text": [
      "True\n",
      "False\n"
     ]
    }
   ],
   "source": [
    "#1.What are the two values of the Boolean data type? How do you write them?\n",
    "# True and False\n",
    "print(10>9)\n",
    "print(10<9)"
   ]
  },
  {
   "cell_type": "markdown",
   "id": "a10fcb00",
   "metadata": {},
   "source": [
    "2. What are the three different types of Boolean operators?\n",
    "\n",
    "'AND' ,'OR', 'NOT'"
   ]
  },
  {
   "cell_type": "code",
   "execution_count": 3,
   "id": "a8869f41",
   "metadata": {},
   "outputs": [
    {
     "name": "stdout",
     "output_type": "stream",
     "text": [
      "True\n",
      "True\n",
      "True\n"
     ]
    }
   ],
   "source": [
    "#3. Make a list of each Boolean operator's truth tables (i.e. every possible combination of Boolean values for the operator and what it evaluate ).\n",
    "# 'AND' ,'OR', 'NOT'\n",
    "x=11\n",
    "a= x>10 and x<20\n",
    "print(a)\n",
    "\n",
    "a= x>10 or x<20\n",
    "print(a)\n",
    "\n",
    "a= x>12 or x==20\n",
    "print(not a)\n"
   ]
  },
  {
   "cell_type": "code",
   "execution_count": 4,
   "id": "415ebbb7",
   "metadata": {},
   "outputs": [
    {
     "data": {
      "text/plain": [
       "((False,), (False,), (True,), (False,), (False,), (True,))"
      ]
     },
     "execution_count": 4,
     "metadata": {},
     "output_type": "execute_result"
    }
   ],
   "source": [
    "# 4. What are the values of the following expressions?\n",
    "a=(5 > 4) and (3 == 5),\n",
    "\n",
    "b=not (5 > 4),\n",
    "\n",
    "c=(5 > 4) or (3 == 5),\n",
    "\n",
    "d=not ((5 > 4) or (3 == 5)),\n",
    "\n",
    "e=(True and True) and (True == False),\n",
    "\n",
    "f=(not False) or (not True),\n",
    "\n",
    "a,b,c,d,e,f"
   ]
  },
  {
   "cell_type": "markdown",
   "id": "736b9228",
   "metadata": {},
   "source": [
    "5. What are the six comparison operators?\n",
    "\n",
    "   >, >= , < , <= , == , !="
   ]
  },
  {
   "cell_type": "markdown",
   "id": "b853b97a",
   "metadata": {},
   "source": [
    "6. How do you tell the difference between the equal to and assignment operators?Describe a condition and when you would use one.\n",
    "\n",
    "== is the equal to operator that compares two values and evaluates to a Boolean, while = is the assignment operator that stores a value in a variable."
   ]
  },
  {
   "cell_type": "code",
   "execution_count": 5,
   "id": "66722072",
   "metadata": {},
   "outputs": [
    {
     "name": "stdout",
     "output_type": "stream",
     "text": [
      "False\n",
      "c = 1\n"
     ]
    }
   ],
   "source": [
    "#eg\n",
    "# Equal To Operator\n",
    "if(2==3):\n",
    "    print(\"True\")\n",
    "else:\n",
    "    print(\"False\")\n",
    "#Assignment operator\n",
    "c=1 #here we have used assignment operator(=) to assign value of c which is 1\n",
    "print(\"c =\",c)"
   ]
  },
  {
   "cell_type": "code",
   "execution_count": 6,
   "id": "6ab12841",
   "metadata": {},
   "outputs": [
    {
     "name": "stdout",
     "output_type": "stream",
     "text": [
      "ham\n",
      "spam\n",
      "spam\n"
     ]
    }
   ],
   "source": [
    "# 7. Identify the three blocks in this code:\n",
    "spam = 0\n",
    "if spam == 10:\n",
    "    print('eggs')\n",
    "if spam > 5:\n",
    "    print('bacon')\n",
    "else:\n",
    "    print('ham')\n",
    "    print('spam')\n",
    "    print('spam')\n"
   ]
  },
  {
   "cell_type": "code",
   "execution_count": 7,
   "id": "1a45e14b",
   "metadata": {},
   "outputs": [
    {
     "name": "stdout",
     "output_type": "stream",
     "text": [
      "Greetings!\n"
     ]
    }
   ],
   "source": [
    "#8. Write code that prints Hello if 1 is stored in spam, prints Howdy if 2 is stored in spam, and prints Greetings! if anything else is stored in spam.\n",
    "spam=0\n",
    "if spam==1:\n",
    "    print('Hello')\n",
    "if spam==2:\n",
    "    print('Howdy')\n",
    "else:\n",
    "    print('Greetings!')"
   ]
  },
  {
   "cell_type": "markdown",
   "id": "38a42be4",
   "metadata": {},
   "source": [
    "9.If your programme is stuck in an endless loop, what keys you’ll press?\n",
    " \n",
    " press ctrl+c"
   ]
  },
  {
   "cell_type": "markdown",
   "id": "8a2eec9e",
   "metadata": {},
   "source": [
    "10. How can you tell the difference between break and continue?\n",
    "\t\n",
    "The break statement is used to stop the loop when a particular condition is true. The break statement terminates the loop.\n",
    "\n",
    "while continue executes the next iteration of the loop instead of terminating the loop"
   ]
  },
  {
   "cell_type": "code",
   "execution_count": 8,
   "id": "2edbb057",
   "metadata": {},
   "outputs": [
    {
     "name": "stdout",
     "output_type": "stream",
     "text": [
      "0\n",
      "1\n",
      "2\n",
      "3\n",
      "4\n",
      "5\n",
      "6\n",
      "Breaked\n",
      "0\n",
      "1\n",
      "2\n",
      "3\n",
      "4\n",
      "5\n",
      "6\n",
      "8\n",
      "9\n"
     ]
    }
   ],
   "source": [
    "# use of break\n",
    "for i in range(10):\n",
    "    if(i==7):\n",
    "        break\n",
    "    print(i)\n",
    "    \n",
    "print('Breaked')\n",
    "#use of  continue\n",
    "for i in range(10):\n",
    "    if(i==7):\n",
    "        continue\n",
    "    print(i)"
   ]
  },
  {
   "cell_type": "code",
   "execution_count": 9,
   "id": "bc225f96",
   "metadata": {},
   "outputs": [
    {
     "data": {
      "text/plain": [
       "(range(0, 10), range(0, 10), range(0, 10))"
      ]
     },
     "execution_count": 9,
     "metadata": {},
     "output_type": "execute_result"
    }
   ],
   "source": [
    "# 11. In a for loop, what is the difference between range(10), range(0, 10), and range(0, 10, 1)?\n",
    "a=range(10)\n",
    "b=range(0,10)\n",
    "c=range(0,10,1)\n",
    "a,b,c"
   ]
  },
  {
   "cell_type": "code",
   "execution_count": 10,
   "id": "08d33d9c",
   "metadata": {},
   "outputs": [
    {
     "name": "stdout",
     "output_type": "stream",
     "text": [
      "1\n",
      "2\n",
      "3\n",
      "4\n",
      "5\n",
      "6\n",
      "7\n",
      "8\n",
      "9\n",
      "1\n",
      "2\n",
      "3\n",
      "4\n",
      "5\n",
      "6\n",
      "7\n",
      "8\n",
      "9\n",
      "10\n"
     ]
    }
   ],
   "source": [
    "# 12. Write a short program that prints the numbers 1 to 10 using a for loop. Then write an equivalent program that prints the numbers 1 to 10 using a while loop.\n",
    "for i in range(1,10):\n",
    "    print(i)\n",
    "\n",
    "i=1\n",
    "while i<=10:\n",
    "    print(i)\n",
    "    i+=1"
   ]
  },
  {
   "cell_type": "code",
   "execution_count": null,
   "id": "03d8b785",
   "metadata": {},
   "outputs": [],
   "source": [
    "# 13. If you had a function named bacon() inside a module named spam, how would you call it after importing spam?\n",
    "def"
   ]
  },
  {
   "cell_type": "code",
   "execution_count": null,
   "id": "a5bd8efd",
   "metadata": {},
   "outputs": [],
   "source": []
  },
  {
   "cell_type": "code",
   "execution_count": null,
   "id": "a01b4fcd",
   "metadata": {},
   "outputs": [],
   "source": []
  }
 ],
 "metadata": {
  "kernelspec": {
   "display_name": "Python 3 (ipykernel)",
   "language": "python",
   "name": "python3"
  },
  "language_info": {
   "codemirror_mode": {
    "name": "ipython",
    "version": 3
   },
   "file_extension": ".py",
   "mimetype": "text/x-python",
   "name": "python",
   "nbconvert_exporter": "python",
   "pygments_lexer": "ipython3",
   "version": "3.9.13"
  }
 },
 "nbformat": 4,
 "nbformat_minor": 5
}
