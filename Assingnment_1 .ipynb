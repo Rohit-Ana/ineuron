{
 "cells": [
  {
   "cell_type": "markdown",
   "id": "7fd0ff38",
   "metadata": {},
   "source": [
    "\n",
    "1. In the below elements which of them are values or an expression? eg:- values can be integer or string and expressions will be mathematical operators.\n",
    "\n",
    "\n",
    " * = expression\n",
    " \n",
    " 'hello' = value\n",
    " \n",
    " -87.8 = value\n",
    " \n",
    " - = expression\n",
    " \n",
    " / = expression\n",
    " \n",
    " + = expression\n",
    " \n",
    " 6 = value\n",
    " "
   ]
  },
  {
   "cell_type": "markdown",
   "id": "94baa3e3",
   "metadata": {},
   "source": [
    "\n",
    "2. What is the difference between string and variable?\n",
    "\n",
    "variable = Variables are symbols that you can use to store data in a program. This implies that when you create a variable, you hold some space in the memory.\n",
    "string = string is a sequence of characters. You can delimit a string using single quotes('string') or double quotes(\"string\"). \n"
   ]
  },
  {
   "cell_type": "markdown",
   "id": "3fef5a73",
   "metadata": {},
   "source": [
    "3. Describe three different data types.\n",
    "\n",
    "List = list is an ordered sequence of characters enclosed[].\n",
    "\n",
    "Tuple = tuple is an ordered collection of elements enclosed ().\n",
    "\n",
    "Dictionary = dict is an unordered collection of key-value pairs enclosed {}.\n"
   ]
  },
  {
   "cell_type": "markdown",
   "id": "88f50c55",
   "metadata": {},
   "source": [
    "\"\"\"4. What is an expression made up of? What do all expressions do?\n",
    "An expression is a combination of operands and operators. The expression in Python produces some values or result after    being interpreted by the Python interpreter.\"\"\""
   ]
  },
  {
   "cell_type": "markdown",
   "id": "ab1284b1",
   "metadata": {},
   "source": [
    "5. This assignment statements, like spam = 10. What is the difference between an expression and a statement?\n",
    "\n",
    "spam = 10    (a statement)\n",
    "\n",
    "spam = 10 + spam   (an expression)"
   ]
  },
  {
   "cell_type": "code",
   "execution_count": 1,
   "id": "e9076a44",
   "metadata": {},
   "outputs": [
    {
     "data": {
      "text/plain": [
       "23"
      ]
     },
     "execution_count": 1,
     "metadata": {},
     "output_type": "execute_result"
    }
   ],
   "source": [
    "#6. After running the following code, what does the variable bacon contain?\n",
    "bacon = 22\n",
    "x = bacon + 1\n",
    "x\n"
   ]
  },
  {
   "cell_type": "code",
   "execution_count": 2,
   "id": "f98c58cc",
   "metadata": {},
   "outputs": [
    {
     "data": {
      "text/plain": [
       "'spamspamspam'"
      ]
     },
     "execution_count": 2,
     "metadata": {},
     "output_type": "execute_result"
    }
   ],
   "source": [
    "#7. What should the values of the following two terms be?\n",
    "'spam' + 'spamspam'\n",
    "'spam' * 3\n"
   ]
  },
  {
   "cell_type": "markdown",
   "id": "b22c333b",
   "metadata": {},
   "source": [
    "8. Why is eggs a valid variable name while 100 is invalid?\n",
    "\n",
    "Variable name should start with letter(a-zA-Z) or underscore (_).\n"
   ]
  },
  {
   "cell_type": "code",
   "execution_count": 3,
   "id": "bc25d7f9",
   "metadata": {},
   "outputs": [
    {
     "data": {
      "text/plain": [
       "(10.0, '10', 10)"
      ]
     },
     "execution_count": 3,
     "metadata": {},
     "output_type": "execute_result"
    }
   ],
   "source": [
    "# 9. What three functions can be used to get the integer, floating-point number, or string version of a value?\n",
    "x = float(10)\n",
    "x1 = str(10)\n",
    "x2 = int(10)\n",
    "x,x1,x2"
   ]
  },
  {
   "cell_type": "markdown",
   "id": "d28b8c90",
   "metadata": {},
   "source": [
    "#10. Why does this expression cause an error? How can you fix it?\n",
    "'I have eaten ' + 99 + ' burritos.'\n"
   ]
  },
  {
   "cell_type": "code",
   "execution_count": 4,
   "id": "1e2b318e",
   "metadata": {},
   "outputs": [],
   "source": [
    "#str cannot concatenate with integer\n",
    "x = 'I have eaten' + '99' +  'burritos'"
   ]
  },
  {
   "cell_type": "code",
   "execution_count": 5,
   "id": "1bf61c40",
   "metadata": {},
   "outputs": [
    {
     "data": {
      "text/plain": [
       "'I have eaten99burritos'"
      ]
     },
     "execution_count": 5,
     "metadata": {},
     "output_type": "execute_result"
    }
   ],
   "source": [
    "x"
   ]
  },
  {
   "cell_type": "code",
   "execution_count": null,
   "id": "392f622f",
   "metadata": {},
   "outputs": [],
   "source": []
  },
  {
   "cell_type": "code",
   "execution_count": null,
   "id": "462b8e4d",
   "metadata": {},
   "outputs": [],
   "source": []
  }
 ],
 "metadata": {
  "kernelspec": {
   "display_name": "Python 3 (ipykernel)",
   "language": "python",
   "name": "python3"
  },
  "language_info": {
   "codemirror_mode": {
    "name": "ipython",
    "version": 3
   },
   "file_extension": ".py",
   "mimetype": "text/x-python",
   "name": "python",
   "nbconvert_exporter": "python",
   "pygments_lexer": "ipython3",
   "version": "3.9.13"
  }
 },
 "nbformat": 4,
 "nbformat_minor": 5
}
